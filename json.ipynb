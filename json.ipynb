{
 "cells": [
  {
   "cell_type": "code",
   "execution_count": 39,
   "id": "c1aaaff7-5c80-4c38-87c8-59d6043083bd",
   "metadata": {},
   "outputs": [],
   "source": [
    "import pandas as pd\n",
    "import json"
   ]
  },
  {
   "cell_type": "code",
   "execution_count": 55,
   "id": "df48e13c-ce2d-4873-b776-57fa1e5d127b",
   "metadata": {},
   "outputs": [
    {
     "name": "stdout",
     "output_type": "stream",
     "text": [
      "탕수육은 원래 부워먹는 음식인데 당연히 부먹이지\n",
      "요즘 젊은 사람들은 다 찍먹하는데 당연히 찍먹아님? 부먹하면 틀딱이지ㅋㅋ\n",
      "나도 근본인 부먹\n",
      "찍어먹는게 바삭바삭해서 좋음 ㅎ\n",
      "물어보지도 않고 부먹하는 사람들 개역겨움\n",
      "찍먹 애들은 인성이 더럽네 ㅋㅋ 못배운 티가 난다 ㅋㅋㅋ\n",
      "솔직히 탕수육 잘하는 집이 최고아닌가?\n",
      "난 찍먹 한표요\n",
      "중국집가보면 탕수육소스 부워져서 나오는데... \n",
      "씨발 그냥 닥치고 부워먹으라고\n",
      "걍 쳐먹으면 되는 걸 존나 물어보네 ㅋㅋ\n",
      "여러분 그렇게 싸울 일 아닌데 왜그럼\n",
      "찍먹이 진리다 무조건 찍먹해라\n",
      "그럼 부먹도 맛있거든요. 선넘었네\n",
      "짱깨들도 다 부워먹는다고\n",
      "존나 병신 대잔치네 ㅋㅋㅋㅋㅋ\n",
      "급식충들 바글바글하네\n",
      "나는 매일매일 바뀌는데 오늘은 부먹!\n",
      "미친새끼들 진짜 뭐하냐 ㅋㅋㅋ\n",
      "나 오늘 입대하는데 마지막으로 탕수육 먹었는데 찍먹했음 썅놈들아 ㅠㅠ\n",
      "이지부스트 착화 너무 좋아 ..\n",
      "요즘 이지는 한물 간거 아님? 틀딱이 ?? 신발은 조던임\n",
      "조던 착화 쓰레기 ;;\n",
      "신발말고 옷도 아디다스는 한물 갔음.. \n",
      "뭐래;; 아직도 삼선 츄리닝을 얼마나 많이 입는데… \n",
      "ㅈㄹ;; 요즘 헬스장 가봐 아디다스 어디 입고있나 \n",
      "잘 입고 다니던데?? 너 눈깔이 삔거 아님??\n",
      "개소리야 너 눈이 이상한거지 솔직히 나이키가 더 많이보이는건 사실임\n",
      "넌 운동복을 헬스장에서만  입냐??\n",
      "그건 아닌데 헬스장에서 입을 일 이 많아서 그렇지.. \n",
      "개소리를 지속적으로 하고 있네 이사람 풋살장이나 농구장 안가봤냐 ? 한강가봐 운동하는 사람이 얼마나 많은데\n",
      "닥쳐 아무튼 어딜가도 나이키가 많아\n",
      "개억지 아님..??\n",
      "너도 눈이있으면 알거아니야 병신임?? 딱봐도 알겠구만\n",
      "넌 대가리가 없냐? 누가봐도 존나 억지 부리고 있구만 애새끼마냥 떼쓰고 있네 뒤질라고 아 ㅋㅋ\n",
      "야야 욕 그만해 말이 너무 험하네…\n",
      "그게아니고 너무 억지부리니까 그렇지 ㅋㅋㅋ\n",
      "그냥 자기가 좋아하는거 입어..\n",
      "그게 정답이긴 함\n",
      "그래서 결론은 뭔데?\n",
      " 아니 코딩할시간도 없는데 그걸 먹으러가?\n",
      " 너 이진구지 ㅋㅋㅋㅋ\n",
      " 갑자기 뭔소리야 정병있음?\n",
      " 아니 그냥 아는사람이 생각났어 \n",
      " ㅋㅋㅋㅋ 병신인가\n",
      " 그래서 왜 농민 백암왕순대먹음? \n",
      " 든든하이 좋지 이삭으로 배가참? 그럴바에 든든하게 국밥먹지 \n",
      " 너무멀어 병신아\n",
      " 왜 욕해 시발 뒤질래\n",
      " ㅋㅋㅋ 너 어디사냐\n",
      " 나 경기도 평택시 서정동에 산다 올래?\n",
      " 아 이새끼 존나먼데 사네 안가 시발아\n",
      " 쫄? ㅋㅋㅋㅋㅋㅋㅋㅋㅋㅋㅋㅋㅋㅋㅋㅋㅋㅋㅋㅋㅋㅋㅋㅋ\n",
      " 차타고 1시간 30분인데 가면 백암왕순대 같이먹어줌?\n",
      " 꺼져 병신아 맞짱이나뜨자\n",
      " 시발 너좀치냐 3대몇치냐? \n",
      " 나 삼대 모르겠고 벤치 90든다. \n",
      " 너 이진구지 ㅋㅋㅋㅋㅋㅋㅋㅋㅋㅋㅋㅋㅋㅋ 딱걸렸네\n",
      " 에휴 너랑 얘기 안할랜다. 나는 이삭먹으러간다. 국밥 충들 다 뒤졌으면 좋겠다\n",
      " ㅋㅋ 여기도 병신들끼리 싸우네 ㅋㅋㅋㅋㅋㅋㅋㅋㅋㅋㅋㅋㅋㅋㅋㅋㅋㅋㅋㅋㅋㅋ 이 게시판은 안싸우는 게 이상하네 누가 악플 필터링좀 달아줘라\n",
      "솔직히 조용한 애인이 편하지 ㅋ\n",
      "그건 니가 아싸라서 그런거임 ㅇㅇ\n",
      "?? 뭐임?\n",
      "방구석에만 꼴아 박혀 있지 말고 집밖에 좀 나가라\n",
      "나는 활기찬 애인이 좋던데 ㅎㅎ\n",
      "히키코모리 극혐이다\n",
      "술쳐마시고 싸돌아다니다가 아다 떼인 년들\n",
      "?ㅋㅋㅋ 해보기나 했냐 갑자기 급발진하노 ㅋㅋ\n",
      "ㅂㄷㅂㄷ대쥬? 연애나 해봄??\n",
      "응 내가 니보다 많이 해봄\n",
      "어쩔티비 ㅎ\n",
      "3D 결혼식 유행한다던데 ㅋㅋㅋㅋ 그거나 하셈\n",
      "딱 니 수준인듯\n",
      "이래서 사회에 찌든 놈들은 상종하기 싫다니깐\n",
      "응 니네 부모 등쳐먹고 살아놓고 하루종일 집에만 쳐박혀있쥬\n",
      "이 씨발련이\n",
      "개새끼가 뚫린ㅇ비이라고 막말하네 \n",
      "님들 왜 싸움? ㅋㅋㅋ \n",
      "입이 뚫려 있으니까 말을 하지 ㅋㅋㅋ 말도 못하게 하나\n",
      "후 넌 좀 쳐 맞아야겠다\n",
      "Nba 페러다임을 바꾼 선수인데 커리가 르브론 보다 낫지         \n",
      "커리가 르브론보다 커퀴들은 낫다는 nba 갓 인문한 뉴비새키들 아님?   \n",
      "커리가 괜히 하위픽이아님 누적 많이 밀려 물론 갈통이에 비교해서      \n",
      "우승 횟수로만 따지면 빌러셀이 고트지              \n",
      "누적이 참 구려 커리가                  \n",
      "동서부 둘 다 우승한 르브론이 더 낫지않냐?            \n",
      "릅퀴련 커리보다 나은 선수가 현역 중에 르브론밖에 없다는 것이냐      \n",
      "그래도 르브론은 버블에서 보면 리그전체를 이끄는 리더같은 위치에도 있었고 서로다른 4팀을 훌륭히 이끌었는데 커리보단 르브론이 좀더 검증된 리더인것같습니다.   \n",
      "르브론이 더 잘해요                     \n",
      "커리는 현대 농구의 패러다임을 바꿧어요.            \n",
      "ㅋㅋㅋㅋ 커퀴 ㅅㄲ들 이제는 반박할수가 없으니 비추만 누르고 튀네       \n",
      "릅퀴 병신 아닥 실화냐?                   \n",
      "릅커 차이는 커탐 차이보다 더 많이나요 병신들아ㅋㅋ         \n",
      "르브론은 정말 거품이 껴있는 선수라 생각함 커리가 더 잘함      \n",
      "거품이 정도를 지나친 역대급 거품 선수임 ㅋㅋ 개인능력은 대단하다 볼수도 있겠지만 우승이 사실상 지 힘으로 이뤄낸게 거의 없음   \n",
      "명전도 아니고 샤킬오닐보다 더한 선수 하나가 사이에 들어가는거임 심지어 그 사이에 들어가는 선수 커리어가 커리보다 좋음 커퀴새끼들아 정신 차리자 ㄹㅇ   \n",
      "뭔 개좆소리야 릅남충이 오프볼이 어딨어?            \n",
      "미친새끼네 이거 ㅋㅋㅋ 릅창년이 오프볼이 어딨어 ㅋㅋㅋ 시발련아 양심 릅갈통 소추랑 같네   \n",
      "커리는 셋다 가능하고 갈통이는 두개만 가능하고 좆통이는 하나밖에 못함   \n",
      "현지에서도 이미 르브론이 올타임 2위인거 반박하는 사람이없는데      \n"
     ]
    }
   ],
   "source": [
    "with open('bell.json', 'r') as f:\n",
    "    sample = json.load(f)\n",
    "    for idx in range(len(sample['bell_input'])):\n",
    "        print(sample['bell_input'][idx]['document'])\n",
    "        \n"
   ]
  },
  {
   "cell_type": "code",
   "execution_count": 61,
   "id": "75b5b06c-8b53-4cc6-990c-6987a9c8cde3",
   "metadata": {},
   "outputs": [],
   "source": [
    "out_json = dict(bell_out = [])"
   ]
  },
  {
   "cell_type": "code",
   "execution_count": 62,
   "id": "fb2cfcbc-1a9d-41a7-8ec0-22b3267ad8de",
   "metadata": {},
   "outputs": [
    {
     "data": {
      "text/plain": [
       "{'bell_out': []}"
      ]
     },
     "execution_count": 62,
     "metadata": {},
     "output_type": "execute_result"
    }
   ],
   "source": [
    "out_json"
   ]
  },
  {
   "cell_type": "code",
   "execution_count": 59,
   "id": "2e191b83-d5d6-44f4-9375-1d56e0a8d4be",
   "metadata": {},
   "outputs": [],
   "source": [
    "out_json['bell_out'].append(dict(id = 1, label = 0))"
   ]
  },
  {
   "cell_type": "code",
   "execution_count": 63,
   "id": "dc7e109d-fe0f-4c9b-8c12-fc18263d1aee",
   "metadata": {},
   "outputs": [],
   "source": [
    "for idx in range(100):\n",
    "    out_json['bell_out'].append(dict(id = idx, label = 0))"
   ]
  },
  {
   "cell_type": "code",
   "execution_count": 65,
   "id": "e653cc4d-bbcb-40cf-b673-cad1a962bc5b",
   "metadata": {},
   "outputs": [],
   "source": [
    "input_json = dict(bell_in = [])"
   ]
  },
  {
   "cell_type": "code",
   "execution_count": 66,
   "id": "921c941f-c221-4e7b-9f80-3550dbcd164d",
   "metadata": {},
   "outputs": [],
   "source": [
    "for idx in range(100):\n",
    "    input_json['bell_in'].append(dict(id = idx, document = sample['bell_input'][idx]['document'] ))"
   ]
  },
  {
   "cell_type": "code",
   "execution_count": 69,
   "id": "7f6dbb44-3587-451d-b433-08913172e876",
   "metadata": {},
   "outputs": [],
   "source": [
    " with open(\"./bell_in.json\", \"w\", encoding=\"utf-8\") as out_f:\n",
    "        json.dump(input_json, out_f, ensure_ascii=False, indent=4)"
   ]
  },
  {
   "cell_type": "code",
   "execution_count": 64,
   "id": "4a3d3a16-8fe0-42e4-ac0b-bb58e838a5aa",
   "metadata": {},
   "outputs": [
    {
     "data": {
      "text/plain": [
       "{'bell_out': [{'id': 0, 'label': 0},\n",
       "  {'id': 1, 'label': 0},\n",
       "  {'id': 2, 'label': 0},\n",
       "  {'id': 3, 'label': 0},\n",
       "  {'id': 4, 'label': 0},\n",
       "  {'id': 5, 'label': 0},\n",
       "  {'id': 6, 'label': 0},\n",
       "  {'id': 7, 'label': 0},\n",
       "  {'id': 8, 'label': 0},\n",
       "  {'id': 9, 'label': 0},\n",
       "  {'id': 10, 'label': 0},\n",
       "  {'id': 11, 'label': 0},\n",
       "  {'id': 12, 'label': 0},\n",
       "  {'id': 13, 'label': 0},\n",
       "  {'id': 14, 'label': 0},\n",
       "  {'id': 15, 'label': 0},\n",
       "  {'id': 16, 'label': 0},\n",
       "  {'id': 17, 'label': 0},\n",
       "  {'id': 18, 'label': 0},\n",
       "  {'id': 19, 'label': 0},\n",
       "  {'id': 20, 'label': 0},\n",
       "  {'id': 21, 'label': 0},\n",
       "  {'id': 22, 'label': 0},\n",
       "  {'id': 23, 'label': 0},\n",
       "  {'id': 24, 'label': 0},\n",
       "  {'id': 25, 'label': 0},\n",
       "  {'id': 26, 'label': 0},\n",
       "  {'id': 27, 'label': 0},\n",
       "  {'id': 28, 'label': 0},\n",
       "  {'id': 29, 'label': 0},\n",
       "  {'id': 30, 'label': 0},\n",
       "  {'id': 31, 'label': 0},\n",
       "  {'id': 32, 'label': 0},\n",
       "  {'id': 33, 'label': 0},\n",
       "  {'id': 34, 'label': 0},\n",
       "  {'id': 35, 'label': 0},\n",
       "  {'id': 36, 'label': 0},\n",
       "  {'id': 37, 'label': 0},\n",
       "  {'id': 38, 'label': 0},\n",
       "  {'id': 39, 'label': 0},\n",
       "  {'id': 40, 'label': 0},\n",
       "  {'id': 41, 'label': 0},\n",
       "  {'id': 42, 'label': 0},\n",
       "  {'id': 43, 'label': 0},\n",
       "  {'id': 44, 'label': 0},\n",
       "  {'id': 45, 'label': 0},\n",
       "  {'id': 46, 'label': 0},\n",
       "  {'id': 47, 'label': 0},\n",
       "  {'id': 48, 'label': 0},\n",
       "  {'id': 49, 'label': 0},\n",
       "  {'id': 50, 'label': 0},\n",
       "  {'id': 51, 'label': 0},\n",
       "  {'id': 52, 'label': 0},\n",
       "  {'id': 53, 'label': 0},\n",
       "  {'id': 54, 'label': 0},\n",
       "  {'id': 55, 'label': 0},\n",
       "  {'id': 56, 'label': 0},\n",
       "  {'id': 57, 'label': 0},\n",
       "  {'id': 58, 'label': 0},\n",
       "  {'id': 59, 'label': 0},\n",
       "  {'id': 60, 'label': 0},\n",
       "  {'id': 61, 'label': 0},\n",
       "  {'id': 62, 'label': 0},\n",
       "  {'id': 63, 'label': 0},\n",
       "  {'id': 64, 'label': 0},\n",
       "  {'id': 65, 'label': 0},\n",
       "  {'id': 66, 'label': 0},\n",
       "  {'id': 67, 'label': 0},\n",
       "  {'id': 68, 'label': 0},\n",
       "  {'id': 69, 'label': 0},\n",
       "  {'id': 70, 'label': 0},\n",
       "  {'id': 71, 'label': 0},\n",
       "  {'id': 72, 'label': 0},\n",
       "  {'id': 73, 'label': 0},\n",
       "  {'id': 74, 'label': 0},\n",
       "  {'id': 75, 'label': 0},\n",
       "  {'id': 76, 'label': 0},\n",
       "  {'id': 77, 'label': 0},\n",
       "  {'id': 78, 'label': 0},\n",
       "  {'id': 79, 'label': 0},\n",
       "  {'id': 80, 'label': 0},\n",
       "  {'id': 81, 'label': 0},\n",
       "  {'id': 82, 'label': 0},\n",
       "  {'id': 83, 'label': 0},\n",
       "  {'id': 84, 'label': 0},\n",
       "  {'id': 85, 'label': 0},\n",
       "  {'id': 86, 'label': 0},\n",
       "  {'id': 87, 'label': 0},\n",
       "  {'id': 88, 'label': 0},\n",
       "  {'id': 89, 'label': 0},\n",
       "  {'id': 90, 'label': 0},\n",
       "  {'id': 91, 'label': 0},\n",
       "  {'id': 92, 'label': 0},\n",
       "  {'id': 93, 'label': 0},\n",
       "  {'id': 94, 'label': 0},\n",
       "  {'id': 95, 'label': 0},\n",
       "  {'id': 96, 'label': 0},\n",
       "  {'id': 97, 'label': 0},\n",
       "  {'id': 98, 'label': 0},\n",
       "  {'id': 99, 'label': 0}]}"
      ]
     },
     "execution_count": 64,
     "metadata": {},
     "output_type": "execute_result"
    }
   ],
   "source": [
    "out_json"
   ]
  },
  {
   "cell_type": "code",
   "execution_count": 52,
   "id": "2cf85993-cfd8-4686-9c5c-132bf03e0f11",
   "metadata": {},
   "outputs": [
    {
     "name": "stdout",
     "output_type": "stream",
     "text": [
      "100\n"
     ]
    }
   ],
   "source": [
    "print(len(sample['bell_input']))"
   ]
  },
  {
   "cell_type": "code",
   "execution_count": 51,
   "id": "4c2cdaba-d04b-422e-a87e-6fa253c3807d",
   "metadata": {},
   "outputs": [
    {
     "name": "stdout",
     "output_type": "stream",
     "text": [
      "탕수육은 원래 부워먹는 음식인데 당연히 부먹이지\n"
     ]
    }
   ],
   "source": [
    "print(sample['bell_input'][0]['document'])"
   ]
  },
  {
   "cell_type": "code",
   "execution_count": 32,
   "id": "d9608fe8-6e63-4b98-a50e-6d19a2ef663b",
   "metadata": {},
   "outputs": [],
   "source": [
    "in_txt = pd.read_csv('sample_pred_in.txt',sep=\"\\t\")"
   ]
  },
  {
   "cell_type": "code",
   "execution_count": 33,
   "id": "89c18495-9960-4d8a-8f01-40ff5c740f09",
   "metadata": {},
   "outputs": [
    {
     "data": {
      "text/html": [
       "<div>\n",
       "<style scoped>\n",
       "    .dataframe tbody tr th:only-of-type {\n",
       "        vertical-align: middle;\n",
       "    }\n",
       "\n",
       "    .dataframe tbody tr th {\n",
       "        vertical-align: top;\n",
       "    }\n",
       "\n",
       "    .dataframe thead th {\n",
       "        text-align: right;\n",
       "    }\n",
       "</style>\n",
       "<table border=\"1\" class=\"dataframe\">\n",
       "  <thead>\n",
       "    <tr style=\"text-align: right;\">\n",
       "      <th></th>\n",
       "      <th>id</th>\n",
       "      <th>document</th>\n",
       "    </tr>\n",
       "  </thead>\n",
       "  <tbody>\n",
       "    <tr>\n",
       "      <th>0</th>\n",
       "      <td>0</td>\n",
       "      <td>탕수육은 원래 부워먹는 음식인데 당연히 부먹이지</td>\n",
       "    </tr>\n",
       "    <tr>\n",
       "      <th>1</th>\n",
       "      <td>1</td>\n",
       "      <td>요즘 젊은 사람들은 다 찍먹하는데 당연히 찍먹아님? 부먹하면 틀딱이지ㅋㅋ</td>\n",
       "    </tr>\n",
       "    <tr>\n",
       "      <th>2</th>\n",
       "      <td>2</td>\n",
       "      <td>나도 근본인 부먹</td>\n",
       "    </tr>\n",
       "    <tr>\n",
       "      <th>3</th>\n",
       "      <td>3</td>\n",
       "      <td>찍어먹는게 바삭바삭해서 좋음 ㅎ</td>\n",
       "    </tr>\n",
       "    <tr>\n",
       "      <th>4</th>\n",
       "      <td>4</td>\n",
       "      <td>물어보지도 않고 부먹하는 사람들 개역겨움</td>\n",
       "    </tr>\n",
       "    <tr>\n",
       "      <th>...</th>\n",
       "      <td>...</td>\n",
       "      <td>...</td>\n",
       "    </tr>\n",
       "    <tr>\n",
       "      <th>95</th>\n",
       "      <td>95</td>\n",
       "      <td>명전도 아니고 샤킬오닐보다 더한 선수 하나가 사이에 들어가는거임 심지어 그 사이에 ...</td>\n",
       "    </tr>\n",
       "    <tr>\n",
       "      <th>96</th>\n",
       "      <td>96</td>\n",
       "      <td>뭔 개좆소리야 릅남충이 오프볼이 어딨어?</td>\n",
       "    </tr>\n",
       "    <tr>\n",
       "      <th>97</th>\n",
       "      <td>97</td>\n",
       "      <td>미친새끼네 이거 ㅋㅋㅋ 릅창년이 오프볼이 어딨어 ㅋㅋㅋ 시발련아 양심 릅갈통 소추랑...</td>\n",
       "    </tr>\n",
       "    <tr>\n",
       "      <th>98</th>\n",
       "      <td>98</td>\n",
       "      <td>커리는 셋다 가능하고 갈통이는 두개만 가능하고 좆통이는 하나밖에 못함</td>\n",
       "    </tr>\n",
       "    <tr>\n",
       "      <th>99</th>\n",
       "      <td>99</td>\n",
       "      <td>현지에서도 이미 르브론이 올타임 2위인거 반박하는 사람이없는데</td>\n",
       "    </tr>\n",
       "  </tbody>\n",
       "</table>\n",
       "<p>100 rows × 2 columns</p>\n",
       "</div>"
      ],
      "text/plain": [
       "    id                                           document\n",
       "0    0                         탕수육은 원래 부워먹는 음식인데 당연히 부먹이지\n",
       "1    1           요즘 젊은 사람들은 다 찍먹하는데 당연히 찍먹아님? 부먹하면 틀딱이지ㅋㅋ\n",
       "2    2                                          나도 근본인 부먹\n",
       "3    3                                  찍어먹는게 바삭바삭해서 좋음 ㅎ\n",
       "4    4                             물어보지도 않고 부먹하는 사람들 개역겨움\n",
       "..  ..                                                ...\n",
       "95  95  명전도 아니고 샤킬오닐보다 더한 선수 하나가 사이에 들어가는거임 심지어 그 사이에 ...\n",
       "96  96                 뭔 개좆소리야 릅남충이 오프볼이 어딨어?            \n",
       "97  97  미친새끼네 이거 ㅋㅋㅋ 릅창년이 오프볼이 어딨어 ㅋㅋㅋ 시발련아 양심 릅갈통 소추랑...\n",
       "98  98          커리는 셋다 가능하고 갈통이는 두개만 가능하고 좆통이는 하나밖에 못함   \n",
       "99  99           현지에서도 이미 르브론이 올타임 2위인거 반박하는 사람이없는데      \n",
       "\n",
       "[100 rows x 2 columns]"
      ]
     },
     "execution_count": 33,
     "metadata": {},
     "output_type": "execute_result"
    }
   ],
   "source": [
    "in_txt"
   ]
  },
  {
   "cell_type": "code",
   "execution_count": 34,
   "id": "1d29f351-c809-44ca-a1dc-288a636aed3e",
   "metadata": {},
   "outputs": [],
   "source": [
    "in_txt.to_json('test.json', orient='table',force_ascii=False)"
   ]
  },
  {
   "cell_type": "code",
   "execution_count": 35,
   "id": "f88c7c72-85bc-4fb2-86a3-147329d0018a",
   "metadata": {},
   "outputs": [],
   "source": [
    "in_json = pd.read_json('bell.json')"
   ]
  },
  {
   "cell_type": "code",
   "execution_count": 37,
   "id": "e70a86e2-ce98-428a-8874-d83cf4cbf3a5",
   "metadata": {},
   "outputs": [
    {
     "ename": "KeyError",
     "evalue": "'document'",
     "output_type": "error",
     "traceback": [
      "\u001b[0;31m---------------------------------------------------------------------------\u001b[0m",
      "\u001b[0;31mKeyError\u001b[0m                                  Traceback (most recent call last)",
      "\u001b[0;32m<ipython-input-37-9e9aa340e38e>\u001b[0m in \u001b[0;36m<module>\u001b[0;34m\u001b[0m\n\u001b[0;32m----> 1\u001b[0;31m \u001b[0min_json\u001b[0m\u001b[0;34m[\u001b[0m\u001b[0;34m'bell_input'\u001b[0m\u001b[0;34m]\u001b[0m\u001b[0;34m[\u001b[0m\u001b[0;34m'document'\u001b[0m\u001b[0;34m]\u001b[0m\u001b[0;34m\u001b[0m\u001b[0;34m\u001b[0m\u001b[0m\n\u001b[0m",
      "\u001b[0;32m~/anaconda3/envs/aws_neuron_pytorch_p36/lib/python3.6/site-packages/pandas/core/series.py\u001b[0m in \u001b[0;36m__getitem__\u001b[0;34m(self, key)\u001b[0m\n\u001b[1;32m    880\u001b[0m \u001b[0;34m\u001b[0m\u001b[0m\n\u001b[1;32m    881\u001b[0m         \u001b[0;32melif\u001b[0m \u001b[0mkey_is_scalar\u001b[0m\u001b[0;34m:\u001b[0m\u001b[0;34m\u001b[0m\u001b[0;34m\u001b[0m\u001b[0m\n\u001b[0;32m--> 882\u001b[0;31m             \u001b[0;32mreturn\u001b[0m \u001b[0mself\u001b[0m\u001b[0;34m.\u001b[0m\u001b[0m_get_value\u001b[0m\u001b[0;34m(\u001b[0m\u001b[0mkey\u001b[0m\u001b[0;34m)\u001b[0m\u001b[0;34m\u001b[0m\u001b[0;34m\u001b[0m\u001b[0m\n\u001b[0m\u001b[1;32m    883\u001b[0m \u001b[0;34m\u001b[0m\u001b[0m\n\u001b[1;32m    884\u001b[0m         \u001b[0;32mif\u001b[0m \u001b[0mis_hashable\u001b[0m\u001b[0;34m(\u001b[0m\u001b[0mkey\u001b[0m\u001b[0;34m)\u001b[0m\u001b[0;34m:\u001b[0m\u001b[0;34m\u001b[0m\u001b[0;34m\u001b[0m\u001b[0m\n",
      "\u001b[0;32m~/anaconda3/envs/aws_neuron_pytorch_p36/lib/python3.6/site-packages/pandas/core/series.py\u001b[0m in \u001b[0;36m_get_value\u001b[0;34m(self, label, takeable)\u001b[0m\n\u001b[1;32m    988\u001b[0m \u001b[0;34m\u001b[0m\u001b[0m\n\u001b[1;32m    989\u001b[0m         \u001b[0;31m# Similar to Index.get_value, but we do not fall back to positional\u001b[0m\u001b[0;34m\u001b[0m\u001b[0;34m\u001b[0m\u001b[0;34m\u001b[0m\u001b[0m\n\u001b[0;32m--> 990\u001b[0;31m         \u001b[0mloc\u001b[0m \u001b[0;34m=\u001b[0m \u001b[0mself\u001b[0m\u001b[0;34m.\u001b[0m\u001b[0mindex\u001b[0m\u001b[0;34m.\u001b[0m\u001b[0mget_loc\u001b[0m\u001b[0;34m(\u001b[0m\u001b[0mlabel\u001b[0m\u001b[0;34m)\u001b[0m\u001b[0;34m\u001b[0m\u001b[0;34m\u001b[0m\u001b[0m\n\u001b[0m\u001b[1;32m    991\u001b[0m         \u001b[0;32mreturn\u001b[0m \u001b[0mself\u001b[0m\u001b[0;34m.\u001b[0m\u001b[0mindex\u001b[0m\u001b[0;34m.\u001b[0m\u001b[0m_get_values_for_loc\u001b[0m\u001b[0;34m(\u001b[0m\u001b[0mself\u001b[0m\u001b[0;34m,\u001b[0m \u001b[0mloc\u001b[0m\u001b[0;34m,\u001b[0m \u001b[0mlabel\u001b[0m\u001b[0;34m)\u001b[0m\u001b[0;34m\u001b[0m\u001b[0;34m\u001b[0m\u001b[0m\n\u001b[1;32m    992\u001b[0m \u001b[0;34m\u001b[0m\u001b[0m\n",
      "\u001b[0;32m~/anaconda3/envs/aws_neuron_pytorch_p36/lib/python3.6/site-packages/pandas/core/indexes/range.py\u001b[0m in \u001b[0;36mget_loc\u001b[0;34m(self, key, method, tolerance)\u001b[0m\n\u001b[1;32m    356\u001b[0m                 \u001b[0;32mexcept\u001b[0m \u001b[0mValueError\u001b[0m \u001b[0;32mas\u001b[0m \u001b[0merr\u001b[0m\u001b[0;34m:\u001b[0m\u001b[0;34m\u001b[0m\u001b[0;34m\u001b[0m\u001b[0m\n\u001b[1;32m    357\u001b[0m                     \u001b[0;32mraise\u001b[0m \u001b[0mKeyError\u001b[0m\u001b[0;34m(\u001b[0m\u001b[0mkey\u001b[0m\u001b[0;34m)\u001b[0m \u001b[0;32mfrom\u001b[0m \u001b[0merr\u001b[0m\u001b[0;34m\u001b[0m\u001b[0;34m\u001b[0m\u001b[0m\n\u001b[0;32m--> 358\u001b[0;31m             \u001b[0;32mraise\u001b[0m \u001b[0mKeyError\u001b[0m\u001b[0;34m(\u001b[0m\u001b[0mkey\u001b[0m\u001b[0;34m)\u001b[0m\u001b[0;34m\u001b[0m\u001b[0;34m\u001b[0m\u001b[0m\n\u001b[0m\u001b[1;32m    359\u001b[0m         \u001b[0;32mreturn\u001b[0m \u001b[0msuper\u001b[0m\u001b[0;34m(\u001b[0m\u001b[0;34m)\u001b[0m\u001b[0;34m.\u001b[0m\u001b[0mget_loc\u001b[0m\u001b[0;34m(\u001b[0m\u001b[0mkey\u001b[0m\u001b[0;34m,\u001b[0m \u001b[0mmethod\u001b[0m\u001b[0;34m=\u001b[0m\u001b[0mmethod\u001b[0m\u001b[0;34m,\u001b[0m \u001b[0mtolerance\u001b[0m\u001b[0;34m=\u001b[0m\u001b[0mtolerance\u001b[0m\u001b[0;34m)\u001b[0m\u001b[0;34m\u001b[0m\u001b[0;34m\u001b[0m\u001b[0m\n\u001b[1;32m    360\u001b[0m \u001b[0;34m\u001b[0m\u001b[0m\n",
      "\u001b[0;31mKeyError\u001b[0m: 'document'"
     ]
    }
   ],
   "source": [
    "in_json['bell_input']['document']"
   ]
  },
  {
   "cell_type": "code",
   "execution_count": null,
   "id": "4d90a952-5797-4684-8e08-de8ac264f67e",
   "metadata": {},
   "outputs": [],
   "source": []
  }
 ],
 "metadata": {
  "kernelspec": {
   "display_name": "Environment (conda_aws_neuron_pytorch_p36)",
   "language": "python",
   "name": "conda_aws_neuron_pytorch_p36"
  },
  "language_info": {
   "codemirror_mode": {
    "name": "ipython",
    "version": 3
   },
   "file_extension": ".py",
   "mimetype": "text/x-python",
   "name": "python",
   "nbconvert_exporter": "python",
   "pygments_lexer": "ipython3",
   "version": "3.6.13"
  }
 },
 "nbformat": 4,
 "nbformat_minor": 5
}
