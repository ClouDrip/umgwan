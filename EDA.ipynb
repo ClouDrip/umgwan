{
 "cells": [
  {
   "cell_type": "code",
   "execution_count": 1,
   "id": "deab26a6-fa2b-48c9-913b-de748f519c4c",
   "metadata": {},
   "outputs": [],
   "source": [
    "import pandas as pd\n",
    "import matplotlib.pyplot as plt"
   ]
  },
  {
   "cell_type": "code",
   "execution_count": 2,
   "id": "411d4c4a-4ea6-419c-8e35-6fabc9e23220",
   "metadata": {},
   "outputs": [
    {
     "name": "stderr",
     "output_type": "stream",
     "text": [
      "b'Skipping line 456: expected 2 fields, saw 3\\n'\n"
     ]
    }
   ],
   "source": [
    "train_data1 = pd.read_csv('data/train.tsv',sep=\"\\t\")\n",
    "test_data1 = pd.read_csv('data/dev.tsv',sep=\"\\t\")\n",
    "train_data2 = pd.read_csv('data/unsmile_train_v1.0.tsv',sep=\"\\t\")\n",
    "test_data2 = pd.read_csv('data/unsmile_valid_v1.0.tsv',sep=\"\\t\")\n",
    "train_data3 = pd.read_csv('data/dataset.txt',sep=\"|\", error_bad_lines=False, header=None)\n"
   ]
  },
  {
   "cell_type": "code",
   "execution_count": 3,
   "id": "440a1eb7-3a32-438b-9bf7-8b11e377ac40",
   "metadata": {},
   "outputs": [],
   "source": [
    "train_data1['label'] = [1 if s ==\"hate\" else 0 for s in train_data1['hate']]\n",
    "test_data1['label'] = [1 if s ==\"hate\" else 0 for s in test_data1['hate']]\n",
    "train_data1.rename(columns = {'comments' : 'document'}, inplace = True)\n",
    "train_data1 = train_data1[['document','label']]\n",
    "test_data1.rename(columns = {'comments' : 'document'}, inplace = True)\n",
    "test_data1 = test_data1[['document','label']]"
   ]
  },
  {
   "cell_type": "code",
   "execution_count": 4,
   "id": "0df2fa82-b2aa-4896-a35d-71d5998e4796",
   "metadata": {},
   "outputs": [],
   "source": [
    "train_data2['label'] = [1 if s == 0 else 0 for s in train_data2['clean']]\n",
    "train_data2.rename(columns = {'문장' : 'document'}, inplace = True)\n",
    "train_data2 = train_data2[['document','label']]\n",
    "test_data2['label'] = [1 if s == 0 else 0 for s in test_data2['clean']]\n",
    "test_data2.rename(columns = {'문장' : 'document'}, inplace = True)\n",
    "test_data2 = test_data2[['document','label']]"
   ]
  },
  {
   "cell_type": "code",
   "execution_count": 5,
   "id": "3e00f2f7-c571-403f-87d2-d5227036521a",
   "metadata": {},
   "outputs": [],
   "source": [
    "train_data3.rename(columns = {0 : 'document', 1 : 'label'}, inplace = True)"
   ]
  },
  {
   "cell_type": "code",
   "execution_count": 6,
   "id": "02251eaf-ff46-4dc5-a0c0-2e0675fad1eb",
   "metadata": {},
   "outputs": [],
   "source": [
    "train_data = pd.concat([train_data1, train_data2, train_data3])\n",
    "test_data = pd.concat([test_data1, test_data2])\n",
    "train_data['id'] = train_data.index\n",
    "test_data['id'] = test_data.index\n",
    "train_data = train_data[['id','document','label']]\n",
    "test_data = test_data[['id','document','label']]\n",
    "train_data['document'].replace('(.*)\\t(.*)', r'\\1 \\2', inplace = True, regex=True)\n",
    "test_data['document'].replace('(.*)\\t(.*)', r'\\1 \\2', inplace = True, regex=True)\n"
   ]
  },
  {
   "cell_type": "code",
   "execution_count": 7,
   "id": "a2c9dd15-dc70-45bc-8f41-a44d9c93cb7a",
   "metadata": {},
   "outputs": [
    {
     "data": {
      "text/plain": [
       "((28725, 3), (4208, 3))"
      ]
     },
     "execution_count": 7,
     "metadata": {},
     "output_type": "execute_result"
    }
   ],
   "source": [
    "train_data.shape, test_data.shape"
   ]
  },
  {
   "cell_type": "code",
   "execution_count": 8,
   "id": "751f006d-2ea3-4e73-938b-8f2acfea70fc",
   "metadata": {},
   "outputs": [],
   "source": [
    "train_data.to_csv('train_data.tsv', index=False, header=True, sep=\"\\t\")\n",
    "test_data.to_csv('test_data.tsv', index=False, header=True, sep=\"\\t\")"
   ]
  },
  {
   "cell_type": "code",
   "execution_count": 9,
   "id": "ffa2e21c-a132-41fa-b5ca-85235cc754b3",
   "metadata": {},
   "outputs": [
    {
     "name": "stdout",
     "output_type": "stream",
     "text": [
      "리뷰의 최대 길이 : 1000\n",
      "리뷰의 평균 길이 : 38.26506527415144\n"
     ]
    },
    {
     "data": {
      "image/png": "[encoded data removed]",
      "text/plain": [
       "<Figure size 432x288 with 1 Axes>"
      ]
     },
     "metadata": {
      "needs_background": "light"
     },
     "output_type": "display_data"
    }
   ],
   "source": [
    "print('리뷰의 최대 길이 :',max(len(review) for review in train_data['document']))\n",
    "print('리뷰의 평균 길이 :',sum(map(len, train_data['document']))/len(train_data['document']))\n",
    "plt.hist([len(review) for review in train_data['document']], bins=50)\n",
    "plt.xlabel('length of samples')\n",
    "plt.ylabel('number of samples')\n",
    "plt.show()"
   ]
  },
  {
   "cell_type": "code",
   "execution_count": 10,
   "id": "e1392a84-e6b8-4e33-a981-2e6643a4b469",
   "metadata": {},
   "outputs": [
    {
     "name": "stdout",
     "output_type": "stream",
     "text": [
      "리뷰의 최대 길이 : 149\n",
      "리뷰의 평균 길이 : 39.161121673003805\n"
     ]
    },
    {
     "data": {
      "image/png": "[encoded data removed]",
      "text/plain": [
       "<Figure size 432x288 with 1 Axes>"
      ]
     },
     "metadata": {
      "needs_background": "light"
     },
     "output_type": "display_data"
    }
   ],
   "source": [
    "print('리뷰의 최대 길이 :',max(len(review) for review in test_data['document']))\n",
    "print('리뷰의 평균 길이 :',sum(map(len, test_data['document']))/len(test_data['document']))\n",
    "plt.hist([len(review) for review in test_data['document']], bins=50)\n",
    "plt.xlabel('length of samples')\n",
    "plt.ylabel('number of samples')\n",
    "plt.show()"
   ]
  },
  {
   "cell_type": "code",
   "execution_count": 11,
   "id": "06943815-c11f-498d-9480-0c3bc9ae95fb",
   "metadata": {},
   "outputs": [],
   "source": [
    "def below_threshold_len(max_len, nested_list):\n",
    "  count = 0\n",
    "  for sentence in nested_list:\n",
    "    if(len(sentence) <= max_len):\n",
    "        count = count + 1\n",
    "  print('전체 샘플 중 길이가 %s 이하인 샘플의 비율: %s'%(max_len, (count / len(nested_list))*100))"
   ]
  },
  {
   "cell_type": "code",
   "execution_count": 12,
   "id": "25d54822-50dd-4806-8fac-2a47916e9f80",
   "metadata": {},
   "outputs": [
    {
     "name": "stdout",
     "output_type": "stream",
     "text": [
      "train\n",
      "전체 샘플 중 길이가 60 이하인 샘플의 비율: 81.72671888598782\n",
      "test\n",
      "전체 샘플 중 길이가 60 이하인 샘플의 비율: 79.91920152091255\n",
      "------------------------------------------------------------\n",
      "train\n",
      "전체 샘플 중 길이가 90 이하인 샘플의 비율: 93.02001740644037\n",
      "test\n",
      "전체 샘플 중 길이가 90 이하인 샘플의 비율: 92.79942965779468\n",
      "------------------------------------------------------------\n",
      "train\n",
      "전체 샘플 중 길이가 120 이하인 샘플의 비율: 97.80330722367276\n",
      "test\n",
      "전체 샘플 중 길이가 120 이하인 샘플의 비율: 97.93250950570342\n",
      "------------------------------------------------------------\n",
      "train\n",
      "전체 샘플 중 길이가 150 이하인 샘플의 비율: 99.50565709312446\n",
      "test\n",
      "전체 샘플 중 길이가 150 이하인 샘플의 비율: 100.0\n",
      "------------------------------------------------------------\n"
     ]
    }
   ],
   "source": [
    "max_len = [60, 90 ,120,150]\n",
    "for s in max_len:\n",
    "    print('train')\n",
    "    below_threshold_len(s, train_data['document'])\n",
    "    print('test')\n",
    "    below_threshold_len(s, test_data['document'])\n",
    "    print('-'*60)\n"
   ]
  }
 ],
 "metadata": {
  "kernelspec": {
   "display_name": "Environment (conda_aws_neuron_pytorch_p36)",
   "language": "python",
   "name": "conda_aws_neuron_pytorch_p36"
  },
  "language_info": {
   "codemirror_mode": {
    "name": "ipython",
    "version": 3
   },
   "file_extension": ".py",
   "mimetype": "text/x-python",
   "name": "python",
   "nbconvert_exporter": "python",
   "pygments_lexer": "ipython3",
   "version": "3.6.13"
  }
 },
 "nbformat": 4,
 "nbformat_minor": 5
}
